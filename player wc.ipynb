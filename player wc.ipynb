{
 "cells": [
  {
   "cell_type": "code",
   "execution_count": 1,
   "id": "cf2a0666",
   "metadata": {},
   "outputs": [],
   "source": [
    "import pandas as pd\n",
    "import re\n",
    "df = pd.read_csv(\"/Users/josegabriel/Desktop/ironhack/projecto week 4/WorldCupPlayers.csv\")"
   ]
  },
  {
   "cell_type": "code",
   "execution_count": 2,
   "id": "db73721b",
   "metadata": {},
   "outputs": [
    {
     "data": {
      "text/html": [
       "<div>\n",
       "<style scoped>\n",
       "    .dataframe tbody tr th:only-of-type {\n",
       "        vertical-align: middle;\n",
       "    }\n",
       "\n",
       "    .dataframe tbody tr th {\n",
       "        vertical-align: top;\n",
       "    }\n",
       "\n",
       "    .dataframe thead th {\n",
       "        text-align: right;\n",
       "    }\n",
       "</style>\n",
       "<table border=\"1\" class=\"dataframe\">\n",
       "  <thead>\n",
       "    <tr style=\"text-align: right;\">\n",
       "      <th></th>\n",
       "      <th>RoundID</th>\n",
       "      <th>MatchID</th>\n",
       "      <th>Team Initials</th>\n",
       "      <th>Coach Name</th>\n",
       "      <th>Line-up</th>\n",
       "      <th>Shirt Number</th>\n",
       "      <th>Player Name</th>\n",
       "      <th>Position</th>\n",
       "      <th>Event</th>\n",
       "    </tr>\n",
       "  </thead>\n",
       "  <tbody>\n",
       "    <tr>\n",
       "      <th>0</th>\n",
       "      <td>201</td>\n",
       "      <td>1096</td>\n",
       "      <td>FRA</td>\n",
       "      <td>CAUDRON Raoul (FRA)</td>\n",
       "      <td>S</td>\n",
       "      <td>0</td>\n",
       "      <td>Alex THEPOT</td>\n",
       "      <td>GK</td>\n",
       "      <td>NaN</td>\n",
       "    </tr>\n",
       "    <tr>\n",
       "      <th>1</th>\n",
       "      <td>201</td>\n",
       "      <td>1096</td>\n",
       "      <td>MEX</td>\n",
       "      <td>LUQUE Juan (MEX)</td>\n",
       "      <td>S</td>\n",
       "      <td>0</td>\n",
       "      <td>Oscar BONFIGLIO</td>\n",
       "      <td>GK</td>\n",
       "      <td>NaN</td>\n",
       "    </tr>\n",
       "    <tr>\n",
       "      <th>2</th>\n",
       "      <td>201</td>\n",
       "      <td>1096</td>\n",
       "      <td>FRA</td>\n",
       "      <td>CAUDRON Raoul (FRA)</td>\n",
       "      <td>S</td>\n",
       "      <td>0</td>\n",
       "      <td>Marcel LANGILLER</td>\n",
       "      <td>NaN</td>\n",
       "      <td>G40'</td>\n",
       "    </tr>\n",
       "    <tr>\n",
       "      <th>3</th>\n",
       "      <td>201</td>\n",
       "      <td>1096</td>\n",
       "      <td>MEX</td>\n",
       "      <td>LUQUE Juan (MEX)</td>\n",
       "      <td>S</td>\n",
       "      <td>0</td>\n",
       "      <td>Juan CARRENO</td>\n",
       "      <td>NaN</td>\n",
       "      <td>G70'</td>\n",
       "    </tr>\n",
       "    <tr>\n",
       "      <th>4</th>\n",
       "      <td>201</td>\n",
       "      <td>1096</td>\n",
       "      <td>FRA</td>\n",
       "      <td>CAUDRON Raoul (FRA)</td>\n",
       "      <td>S</td>\n",
       "      <td>0</td>\n",
       "      <td>Ernest LIBERATI</td>\n",
       "      <td>NaN</td>\n",
       "      <td>NaN</td>\n",
       "    </tr>\n",
       "  </tbody>\n",
       "</table>\n",
       "</div>"
      ],
      "text/plain": [
       "   RoundID  MatchID Team Initials           Coach Name Line-up  Shirt Number  \\\n",
       "0      201     1096           FRA  CAUDRON Raoul (FRA)       S             0   \n",
       "1      201     1096           MEX     LUQUE Juan (MEX)       S             0   \n",
       "2      201     1096           FRA  CAUDRON Raoul (FRA)       S             0   \n",
       "3      201     1096           MEX     LUQUE Juan (MEX)       S             0   \n",
       "4      201     1096           FRA  CAUDRON Raoul (FRA)       S             0   \n",
       "\n",
       "        Player Name Position Event  \n",
       "0       Alex THEPOT       GK   NaN  \n",
       "1   Oscar BONFIGLIO       GK   NaN  \n",
       "2  Marcel LANGILLER      NaN  G40'  \n",
       "3      Juan CARRENO      NaN  G70'  \n",
       "4   Ernest LIBERATI      NaN   NaN  "
      ]
     },
     "execution_count": 2,
     "metadata": {},
     "output_type": "execute_result"
    }
   ],
   "source": [
    "df.head(5)"
   ]
  },
  {
   "cell_type": "code",
   "execution_count": 3,
   "id": "60575a08",
   "metadata": {},
   "outputs": [],
   "source": [
    "df.drop([\"Position\",\"Shirt Number\",\"Line-up\",\"Coach Name\",\"RoundID\"], axis = 1, inplace = True)\n",
    "df.rename(columns= {\"Event\":\"Goals\"}, inplace = True)\n",
    "df.fillna(0, inplace= True)"
   ]
  },
  {
   "cell_type": "code",
   "execution_count": null,
   "id": "ef028405",
   "metadata": {},
   "outputs": [],
   "source": [
    "#df['Goals'] = df['Goals'].replace(to_replace=r'Y\\d+', value=0, regex=True)\n",
    "#df['Goals'] = df['Goals'].replace(to_replace=r'IH\\d+', value=0, regex=True)\n",
    "#df['Goals'] = df['Goals'].replace(to_replace=r'I\\d+', value=0, regex=True)\n",
    "#df['Goals'] = df['Goals'].replace(to_replace=r'P\\d+', value=1, regex=True)\n",
    "#df['Goals'] = df['Goals'].replace(to_replace=r'R\\d+', value=0, regex=True)\n",
    "#df['Goals'] = df['Goals'].replace(to_replace=r'MP\\d+', value=0, regex=True)\n",
    "#df['Goals'] = df['Goals'].replace(to_replace=r'SY\\d+', value=0, regex=True)\n",
    "#df['Goals'] = df['Goals'].replace(to_replace=r'O\\d+', value=0, regex=True)\n",
    "#df['Goals'] = df['Goals'].replace(to_replace=r'OG\\d+', value=0, regex=True)\n",
    "#df['Goals'] = df['Goals'].replace(to_replace=r'W\\d+', value=0, regex=True)\n",
    "#df['Goals'] = df['Goals'].replace(to_replace=r'OH\\d+', value=0, regex=True)\n",
    "#df['Goals'] = df['Goals'].replace(to_replace=r'RS\\d+', value=0, regex=True)\n",
    "#df['Goals'] = df['Goals'].replace(to_replace=r'M\\d+', value=0, regex=True)\n",
    "#def count_g_numbers(event):\n",
    "#    if isinstance(event, str):\n",
    "#        return event.count('G')\n",
    "#    return 0\n",
    "#df['Goals'] = df['Goals'].apply(count_g_numbers)"
   ]
  },
  {
   "cell_type": "code",
   "execution_count": 4,
   "id": "ee180054",
   "metadata": {},
   "outputs": [],
   "source": [
    "df['Goals'] = df['Goals'].replace(to_replace=r'Y\\d+', value=0, regex=True)\n",
    "df['Goals'] = df['Goals'].replace(to_replace=r'IH\\d+', value=0, regex=True)\n",
    "df['Goals'] = df['Goals'].replace(to_replace=r'I\\d+', value=0, regex=True)\n",
    "df['Goals'] = df['Goals'].replace(to_replace=r'P\\d+', value=1, regex=True)\n",
    "df['Goals'] = df['Goals'].replace(to_replace=r'R\\d+', value=0, regex=True)\n",
    "df['Goals'] = df['Goals'].replace(to_replace=r'MP\\d+', value=0, regex=True)\n",
    "df['Goals'] = df['Goals'].replace(to_replace=r'SY\\d+', value=0, regex=True)\n",
    "df['Goals'] = df['Goals'].replace(to_replace=r'O\\d+', value=0, regex=True)\n",
    "df['Goals'] = df['Goals'].replace(to_replace=r'OG\\d+', value=0, regex=True)\n",
    "df['Goals'] = df['Goals'].replace(to_replace=r'W\\d+', value=0, regex=True)\n",
    "df['Goals'] = df['Goals'].replace(to_replace=r'OH\\d+', value=0, regex=True)\n",
    "df['Goals'] = df['Goals'].replace(to_replace=r'RS\\d+', value=0, regex=True)\n",
    "df['Goals'] = df['Goals'].replace(to_replace=r'M\\d+', value=0, regex=True)\n",
    "def count_g_numbers(event):\n",
    "    if isinstance(event, str):\n",
    "        return event.count('G')\n",
    "    return 0\n",
    "df['Goals'] = df['Goals'].apply(count_g_numbers)"
   ]
  },
  {
   "cell_type": "code",
   "execution_count": 5,
   "id": "220d60a5",
   "metadata": {},
   "outputs": [
    {
     "data": {
      "text/plain": [
       "Goals\n",
       "0    36460\n",
       "1     1112\n",
       "2      177\n",
       "3       31\n",
       "4        4\n",
       "Name: count, dtype: int64"
      ]
     },
     "execution_count": 5,
     "metadata": {},
     "output_type": "execute_result"
    }
   ],
   "source": [
    "df['Goals'].value_counts()"
   ]
  },
  {
   "cell_type": "code",
   "execution_count": null,
   "id": "9f179e35",
   "metadata": {},
   "outputs": [],
   "source": [
    "df"
   ]
  },
  {
   "cell_type": "code",
   "execution_count": null,
   "id": "98af3240",
   "metadata": {},
   "outputs": [],
   "source": []
  }
 ],
 "metadata": {
  "kernelspec": {
   "display_name": "Python 3 (ipykernel)",
   "language": "python",
   "name": "python3"
  },
  "language_info": {
   "codemirror_mode": {
    "name": "ipython",
    "version": 3
   },
   "file_extension": ".py",
   "mimetype": "text/x-python",
   "name": "python",
   "nbconvert_exporter": "python",
   "pygments_lexer": "ipython3",
   "version": "3.11.7"
  }
 },
 "nbformat": 4,
 "nbformat_minor": 5
}
